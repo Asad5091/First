{
  "nbformat": 4,
  "nbformat_minor": 0,
  "metadata": {
    "colab": {
      "name": "TSF assignment.ipynb",
      "provenance": []
    },
    "kernelspec": {
      "name": "python3",
      "display_name": "Python 3"
    },
    "language_info": {
      "name": "python"
    }
  },
  "cells": [
    {
      "cell_type": "code",
      "metadata": {
        "id": "Of-p_h4Fy0Sz"
      },
      "source": [
        "pip install pipenv"
      ],
      "execution_count": null,
      "outputs": []
    },
    {
      "cell_type": "code",
      "metadata": {
        "id": "MEEk_nKw-USG"
      },
      "source": [
        "mkdir ocr_server && cd ocr_server && pipenv install --three"
      ],
      "execution_count": null,
      "outputs": []
    },
    {
      "cell_type": "code",
      "metadata": {
        "id": "_GiRVT60-feG"
      },
      "source": [
        "pip install Pillow"
      ],
      "execution_count": null,
      "outputs": []
    },
    {
      "cell_type": "code",
      "metadata": {
        "id": "FYIe8tNT_qh-"
      },
      "source": [
        "from google.colab import drive\n",
        "drive.mount('/content/drive')"
      ],
      "execution_count": null,
      "outputs": []
    },
    {
      "cell_type": "code",
      "metadata": {
        "id": "PyP9XOL3DV2e"
      },
      "source": [
        "! apt install tesseract-ocr\n",
        "! apt install libtesseract-dev"
      ],
      "execution_count": null,
      "outputs": []
    },
    {
      "cell_type": "code",
      "metadata": {
        "id": "b8xgiSPJEDEM"
      },
      "source": [
        "! pip install Pillow\n",
        "! pip install pytesseract"
      ],
      "execution_count": null,
      "outputs": []
    },
    {
      "cell_type": "code",
      "metadata": {
        "id": "sMfXaqDe_ijw",
        "colab": {
          "base_uri": "https://localhost:8080/"
        },
        "outputId": "065808da-a226-42ff-907e-5940a8a41504"
      },
      "source": [
        "try:\n",
        "    from PIL import Image\n",
        "except ImportError:\n",
        "    import Image\n",
        "import pytesseract\n",
        "\n",
        "      \n",
        "def ocr_core(filename):\n",
        "    \"\"\"\n",
        "    This function will handle the core OCR processing of images.\n",
        "    \"\"\"\n",
        "    text = pytesseract.image_to_string(Image.open(os.path.join('/content/drive/MyDrive/Capture.PNG')))  # We'll use Pillow's Image class to open the image and pytesseract to detect the string in the image\n",
        "    return text\n",
        "\n",
        "print(ocr_core(filename))"
      ],
      "execution_count": null,
      "outputs": [
        {
          "output_type": "stream",
          "text": [
            "FS ic NAAM\n",
            "\n",
            "2PhD positions in Distributed Edge Artificial Intelligence, Deadline: 31/05/2021\n",
            "PhD MEDUSA, Deadline: 31/05/2021\n",
            "\n",
            "PhD candidate in Operations Research and Behaviour (1.0 fte), Deadline: 31/05/2021\n",
            "PhD in photonics, Deadline: 13/06/2021\n",
            "\n",
            "2B) aha ‘vt eShifa (4 5\n",
            "Oem\n",
            "\n",
            "eShifa\n",
            "\n",
            " \n",
            "     \n",
            " \n",
            "  \n",
            "\n",
            "FeLi yah\n",
            "Sei FP KeAE\n",
            "«\n",
            "\n",
            " \n",
            "\n",
            "www.eshifa.org\n",
            "\n",
            " \n",
            "\n",
            "PDEng trainee positions (TOIO) ‘Mechatronic Systems Design’, Professional Doctorate in\n",
            "Engineering (PDEng trainee), Mathematics and Computer Science, Deadline: 01/07/2021\n",
            "\n",
            "PDEng trainee positions (TOIO) ‘Automotive Systems Design’, Professional Doctorate in\n",
            "Engineering (PDEng trainee), Mathematics and Computer Science, Deadline: 15/08/2021\n",
            "\f\n"
          ],
          "name": "stdout"
        }
      ]
    }
  ]
}



#gyghucjhliuyvufghj




#
